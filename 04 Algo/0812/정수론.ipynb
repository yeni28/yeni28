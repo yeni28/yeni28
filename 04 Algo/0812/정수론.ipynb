{
 "cells": [
  {
   "cell_type": "markdown",
   "metadata": {},
   "source": [
    "### 최소공배수, 최대공약수, 소수\n",
    "\n",
    "- 최소공배수 : 두 수에 서로 공통으로 존재하는 배수(공배수) 중 작은수\n",
    "- 최대 공약수 : 두 수에 서로 공통으로 존재하는 약수(공약수) 중 큰 수\n",
    "- 소수 : 약수가 1과 자기 자신 밖에 없는 숫자(prim number)"
   ]
  },
  {
   "cell_type": "markdown",
   "metadata": {},
   "source": [
    "\n",
    "- 최소 공배수를 구하는 방법\n",
    "- 최대 공약수를 구하는 방법\n",
    "- 소수 인지 아닌지 판별하는 방법\n",
    "\n",
    "## 유클리드 호제법\n",
    "\n",
    "- 2개의 자연수 a,b(a>b)에 대해서 a를 b로 나눈 나머지가 r일떄, a와 b의 최대공약수는 b와 r의 최대공약수와 같다.\n",
    "이 과정을 반복해서 나머지가 0이 되었을 때, 이 때 나누는 수가 a와 b의 최대공약수이다.\n",
    "\n",
    "-  최소공배수의 성질\n",
    "    - 두 수 a와 b의 최소공배수는 a와 b의 곱을 a와 b의 최대 공약수로 나눈 것과 같다.\n",
    "\n",
    "``` python\n",
    "#Least Common multiple : lcm\n",
    "def lcm(a, b):\n",
    "    return= a*b // gcd(a,b)\n",
    "```"
   ]
  },
  {
   "cell_type": "code",
   "execution_count": 1,
   "metadata": {},
   "outputs": [
    {
     "ename": "SyntaxError",
     "evalue": "invalid syntax (4029084736.py, line 4)",
     "output_type": "error",
     "traceback": [
      "\u001b[1;36m  Input \u001b[1;32mIn [1]\u001b[1;36m\u001b[0m\n\u001b[1;33m    def gcd(a,b) # a> b\u001b[0m\n\u001b[1;37m                 ^\u001b[0m\n\u001b[1;31mSyntaxError\u001b[0m\u001b[1;31m:\u001b[0m invalid syntax\n"
     ]
    }
   ],
   "source": [
    "# 최대공약수 구하기\n",
    "# gcd : greatest common divisor\n",
    "\n",
    "def gcd(a,b) # a> b\n",
    "    r = 0 #나머지\n",
    "    #a를 나누어 떨어질때까지 나눈다.\n",
    "    while b != 0:\n",
    "        r = a % b\n",
    "        a = b\n",
    "        b = r\n",
    "        \n",
    "\n"
   ]
  },
  {
   "cell_type": "markdown",
   "metadata": {},
   "source": [
    "## 소수 구하는 방법(소수인지 확인하는 방법)"
   ]
  },
  {
   "cell_type": "code",
   "execution_count": null,
   "metadata": {},
   "outputs": [],
   "source": [
    "# 숫자n이 소수이면 True 리턴, 소수가 아니면 False를 리턴하도록\n",
    "# 소수인지 판별하는 방법은 1부터 n까지 나눴을 때 약수가 1또는 자기 자신 밖에 없으면 소수\n",
    "# 그게 아니면 소수가 아니다.\n",
    "# 1은 소수가 아니다.\n",
    "\n",
    "def is_prime(n):\n",
    "    if n < 2:\n",
    "        return False\n",
    "    for i in range(2,n):\n",
    "        #나눴을 때 나머지가 0인게있다면? 소수가 아니다.\n",
    "        if n%1 == 0:\n",
    "            return False\n",
    "    return True\n"
   ]
  },
  {
   "cell_type": "markdown",
   "metadata": {},
   "source": [
    "## 에라토스테네스의 체\n",
    "\n",
    "수학자 에라토스테네스가 고안한 방법, 마치 체로 치듯이 수를 걸러낸다고해서 붙여진 이름이다.\n"
   ]
  },
  {
   "cell_type": "code",
   "execution_count": 4,
   "metadata": {},
   "outputs": [
    {
     "ename": "IndentationError",
     "evalue": "expected an indented block (122217679.py, line 7)",
     "output_type": "error",
     "traceback": [
      "\u001b[1;36m  Input \u001b[1;32mIn [4]\u001b[1;36m\u001b[0m\n\u001b[1;33m    for j in range(i+i, n+1, i):\u001b[0m\n\u001b[1;37m                                ^\u001b[0m\n\u001b[1;31mIndentationError\u001b[0m\u001b[1;31m:\u001b[0m expected an indented block\n"
     ]
    }
   ],
   "source": [
    "def get_prime(n): #n까지의 숫자 중에서 소수를 구한다.\n",
    "    arr = [True] * (n+1) #일단 n까지의 숫자를 다 소수라고 표시\n",
    "    \n",
    "    for i in range(2, n):\n",
    "        if arr[i]: #만약 i번째 수가 소수다\n",
    "            #소수의 배수를 모두 소수가 아니라고 체크\n",
    "            for j in range(i+i, n+1, i): #i는 소수이니까 i*i로..\n",
    "                arr[j] = False\n",
    "    return[i for i in range(2, n+1) if arr[i] == True]\n",
    "\n",
    "get_prime(100)"
   ]
  },
  {
   "cell_type": "code",
   "execution_count": null,
   "metadata": {},
   "outputs": [],
   "source": [
    "\n",
    "#좀 더 빠르게 하는법\n",
    "def get_prime(n): #n까지의 숫자 중에서 소수를 구한다.\n",
    "    arr = [True] * (n+1) #일단 n까지의 숫자를 다 소수라고 표시\n",
    "\n",
    "    m = int((n+1)**0.5)\n",
    "    for i in range(2, n):\n",
    "        if arr[i]: #만약 i번째 수가 소수다\n",
    "            #소수의 배수를 모두 소수가 아니라고 체크\n",
    "            for j in range(i+i, n+1, i): #i는 소수이니까 i*i로..\n",
    "                arr[j] = False\n",
    "    return[i for i in range(2, n+1) if arr[i] == True]\n",
    "\n",
    "get_prime(100)"
   ]
  },
  {
   "cell_type": "markdown",
   "metadata": {},
   "source": [
    "n까지 다 검사하지 않고, n의 제곱근 까지만 검사해서 최적화\n",
    "\n",
    "제곱근을 쓰는 이유는?\n",
    "- n = a * b로 나타낼 수 있다. n'를 n의 제곱근 이라고 하자.\n",
    "- n = n' * n'로 나타낼 수 있다. 여기서 a >= n'일 때, a * b = n = n' * n'   b <= n'\n",
    "-n'까지만 검사를 하면 두 수  ab중에 작은 수 b까지만 체크해도(a는 검사를 하지 않아도) 소수 판별이 가능하다.\n",
    "\n",
    "16 => 1,2,4,8,16 (2까지만 검사해도 소수 아닌 걸 알 수 있음)"
   ]
  }
 ],
 "metadata": {
  "kernelspec": {
   "display_name": "Python 3.9.13 64-bit",
   "language": "python",
   "name": "python3"
  },
  "language_info": {
   "codemirror_mode": {
    "name": "ipython",
    "version": 3
   },
   "file_extension": ".py",
   "mimetype": "text/x-python",
   "name": "python",
   "nbconvert_exporter": "python",
   "pygments_lexer": "ipython3",
   "version": "3.9.13"
  },
  "orig_nbformat": 4,
  "vscode": {
   "interpreter": {
    "hash": "81794d4967e6c3204c66dcd87b604927b115b27c00565d3d43f05ba2f3a2cb0d"
   }
  }
 },
 "nbformat": 4,
 "nbformat_minor": 2
}
